{
 "cells": [
  {
   "cell_type": "code",
   "execution_count": 9,
   "id": "f4578cfe",
   "metadata": {},
   "outputs": [
    {
     "name": "stdout",
     "output_type": "stream",
     "text": [
      "~~~~calculator~~~~\n",
      "enter first number : 10\n",
      "enter second number : 85\n",
      "press 1 for addition \n",
      " press 2 for subtraction \n",
      " press 3 for multiplication \n",
      " press 4 for division \n",
      "enter your choice from 1-4 : 4\n",
      "0.11764705882352941\n"
     ]
    }
   ],
   "source": [
    "print(\"~~~~calculator~~~~\")\n",
    "num1 = float(input(\"enter first number : \"))\n",
    "num2 = float(input(\"enter second number : \"))\n",
    "\n",
    "print (\"press 1 for addition \\n press 2 for subtraction \\n press 3 for multiplication \\n press 4 for division \")\n",
    "\n",
    "choice = int(input(\"enter your choice from 1-4 : \"))\n",
    "\n",
    "\n",
    "if choice == 1:\n",
    "    print(num1 + num2)\n",
    "elif choice == 2:\n",
    "    print (num1 - num2)\n",
    "elif choice == 3:\n",
    "    print (num1 * num2)\n",
    "elif choice == 4:\n",
    "    print ( num1 / num2)\n",
    "else:\n",
    "    print(\"Invalid input \")\n",
    "\n"
   ]
  },
  {
   "cell_type": "code",
   "execution_count": null,
   "id": "8527f580",
   "metadata": {},
   "outputs": [],
   "source": []
  },
  {
   "cell_type": "code",
   "execution_count": null,
   "id": "a7d3a029",
   "metadata": {},
   "outputs": [],
   "source": []
  },
  {
   "cell_type": "code",
   "execution_count": null,
   "id": "418d4b6c",
   "metadata": {},
   "outputs": [],
   "source": []
  }
 ],
 "metadata": {
  "kernelspec": {
   "display_name": "Python 3 (ipykernel)",
   "language": "python",
   "name": "python3"
  },
  "language_info": {
   "codemirror_mode": {
    "name": "ipython",
    "version": 3
   },
   "file_extension": ".py",
   "mimetype": "text/x-python",
   "name": "python",
   "nbconvert_exporter": "python",
   "pygments_lexer": "ipython3",
   "version": "3.9.13"
  }
 },
 "nbformat": 4,
 "nbformat_minor": 5
}
